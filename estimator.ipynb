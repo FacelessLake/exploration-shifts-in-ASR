{
 "cells": [
  {
   "cell_type": "code",
   "id": "initial_id",
   "metadata": {
    "collapsed": true,
    "ExecuteTime": {
     "end_time": "2024-05-28T11:30:33.064975500Z",
     "start_time": "2024-05-28T11:28:07.734439100Z"
    }
   },
   "source": [
    "import torch\n",
    "from transformers import Wav2Vec2Processor, Wav2Vec2ForCTC\n",
    "from evaluate import load\n",
    "from datasets import load_dataset, Audio"
   ],
   "outputs": [],
   "execution_count": 1
  },
  {
   "metadata": {
    "ExecuteTime": {
     "end_time": "2024-05-28T11:50:15.463894500Z",
     "start_time": "2024-05-28T11:50:15.440144600Z"
    }
   },
   "cell_type": "code",
   "source": [
    "TEXT_COLUMN_NAME = 'text'\n",
    "SPLIT_NAME = 'validation'\n",
    "MODEL_DIR = r\"D:\\WhiteLake\\University\\Diploma\\Practice\\MyStep2Model\\server_files\\models\\checkpoint-libri-clean\"\n",
    "DATASET_DIR = r\"D:\\WhiteLake\\University\\Diploma\\Practice\\Datasets\\!final_versions\\augmented-librispeech-ru\\folder\""
   ],
   "id": "4c7789cd58e68976",
   "outputs": [],
   "execution_count": 19
  },
  {
   "cell_type": "code",
   "source": [
    "cer_metric = load(\"cer\")"
   ],
   "metadata": {
    "collapsed": false,
    "ExecuteTime": {
     "end_time": "2024-05-28T11:30:53.394659700Z",
     "start_time": "2024-05-28T11:30:50.914185800Z"
    }
   },
   "id": "83ca2f29e03b4d17",
   "outputs": [],
   "execution_count": 5
  },
  {
   "cell_type": "markdown",
   "source": [
    "Model part"
   ],
   "metadata": {
    "collapsed": false
   },
   "id": "4aa0cccd02b8028c"
  },
  {
   "cell_type": "code",
   "source": [
    "model = Wav2Vec2ForCTC.from_pretrained(MODEL_DIR).cuda()"
   ],
   "metadata": {
    "collapsed": false,
    "ExecuteTime": {
     "end_time": "2024-05-28T11:31:09.241898100Z",
     "start_time": "2024-05-28T11:30:55.561768800Z"
    }
   },
   "id": "17cd20c9ba0b857d",
   "outputs": [],
   "execution_count": 6
  },
  {
   "metadata": {
    "ExecuteTime": {
     "end_time": "2024-05-28T11:31:09.298492200Z",
     "start_time": "2024-05-28T11:31:09.244890400Z"
    }
   },
   "cell_type": "code",
   "source": [
    "processor = Wav2Vec2Processor.from_pretrained(MODEL_DIR)"
   ],
   "id": "7411169f87233a3a",
   "outputs": [],
   "execution_count": 7
  },
  {
   "metadata": {
    "ExecuteTime": {
     "end_time": "2024-05-28T11:31:09.317447600Z",
     "start_time": "2024-05-28T11:31:09.293898200Z"
    }
   },
   "cell_type": "code",
   "source": [
    "def map_to_result(batch):\n",
    "  with torch.no_grad():\n",
    "    input_values = torch.tensor(batch[\"input_values\"], device=\"cuda\").unsqueeze(0)\n",
    "    logits = model(input_values).logits\n",
    "\n",
    "  pred_ids = torch.argmax(logits, dim=-1)\n",
    "  batch[\"pred_str\"] = processor.batch_decode(pred_ids)[0]\n",
    "  batch[TEXT_COLUMN_NAME] = processor.decode(batch[\"labels\"], group_tokens=False)\n",
    "  \n",
    "  return batch"
   ],
   "id": "43f7b6070c14306",
   "outputs": [],
   "execution_count": 8
  },
  {
   "metadata": {
    "ExecuteTime": {
     "end_time": "2024-05-28T11:31:09.318448100Z",
     "start_time": "2024-05-28T11:31:09.307962200Z"
    }
   },
   "cell_type": "code",
   "source": [
    "def prepare_dataset(batch):\n",
    "    audio = batch[\"audio\"]\n",
    "\n",
    "    batch[\"input_values\"] = processor(audio[\"array\"], sampling_rate=audio[\"sampling_rate\"]).input_values[0]\n",
    "    batch[\"input_length\"] = len(batch[\"input_values\"])\n",
    "\n",
    "    with processor.as_target_processor():\n",
    "        batch[\"labels\"] = processor(batch[TEXT_COLUMN_NAME]).input_ids\n",
    "    return batch"
   ],
   "id": "3270c78c1e5a93da",
   "outputs": [],
   "execution_count": 9
  },
  {
   "cell_type": "markdown",
   "source": [
    "Dataset part"
   ],
   "metadata": {
    "collapsed": false
   },
   "id": "8084580bc5ea50be"
  },
  {
   "metadata": {
    "ExecuteTime": {
     "end_time": "2024-05-28T11:50:23.923446900Z",
     "start_time": "2024-05-28T11:50:19.562048100Z"
    }
   },
   "cell_type": "code",
   "source": [
    "test_dataset = load_dataset(\"parquet\", data_dir=DATASET_DIR, split=SPLIT_NAME)"
   ],
   "id": "75346e423a19b945",
   "outputs": [],
   "execution_count": 20
  },
  {
   "metadata": {
    "ExecuteTime": {
     "end_time": "2024-05-28T11:50:23.978622100Z",
     "start_time": "2024-05-28T11:50:23.925442900Z"
    }
   },
   "cell_type": "code",
   "source": [
    "test_dataset = test_dataset.cast_column(\"audio\", Audio(sampling_rate=16000))"
   ],
   "id": "f7626187c5abcc22",
   "outputs": [],
   "execution_count": 21
  },
  {
   "metadata": {
    "ExecuteTime": {
     "end_time": "2024-05-28T11:50:23.978622100Z",
     "start_time": "2024-05-28T11:50:23.966058400Z"
    }
   },
   "cell_type": "code",
   "source": [
    "test_dataset"
   ],
   "id": "70fff5a8f8283b0d",
   "outputs": [
    {
     "data": {
      "text/plain": "Dataset({\n    features: ['text', 'audio'],\n    num_rows: 1400\n})"
     },
     "execution_count": 22,
     "metadata": {},
     "output_type": "execute_result"
    }
   ],
   "execution_count": 22
  },
  {
   "metadata": {
    "ExecuteTime": {
     "end_time": "2024-05-28T11:57:01.065292800Z",
     "start_time": "2024-05-28T11:50:25.168854100Z"
    }
   },
   "cell_type": "code",
   "source": [
    "test_dataset = test_dataset.map(prepare_dataset, remove_columns=test_dataset.column_names)\n",
    "results = test_dataset.map(map_to_result, remove_columns=test_dataset.column_names)"
   ],
   "id": "b3ab8230d3e3cee9",
   "outputs": [
    {
     "data": {
      "text/plain": "Map:   0%|          | 0/1400 [00:00<?, ? examples/s]",
      "application/vnd.jupyter.widget-view+json": {
       "version_major": 2,
       "version_minor": 0,
       "model_id": "d3c58d72e93947139197f6a82b85ce45"
      }
     },
     "metadata": {},
     "output_type": "display_data"
    }
   ],
   "execution_count": 23
  },
  {
   "metadata": {
    "ExecuteTime": {
     "end_time": "2024-05-28T11:57:01.626273900Z",
     "start_time": "2024-05-28T11:57:01.074316Z"
    }
   },
   "cell_type": "code",
   "source": [
    "print(\"Test CER: {:.3f}\".format(cer_metric.compute(predictions=results[\"pred_str\"], references=results[TEXT_COLUMN_NAME])))"
   ],
   "id": "f53b00fbb91f2444",
   "outputs": [
    {
     "name": "stdout",
     "output_type": "stream",
     "text": [
      "Test CER: 0.070\n"
     ]
    }
   ],
   "execution_count": 24
  },
  {
   "metadata": {
    "ExecuteTime": {
     "end_time": "2024-05-26T08:04:21.950497Z",
     "start_time": "2024-05-26T08:04:21.467135Z"
    }
   },
   "cell_type": "code",
   "source": [
    "from datasets import ClassLabel\n",
    "import random\n",
    "import pandas as pd\n",
    "from IPython.display import display, HTML\n",
    "\n",
    "def show_random_elements(dataset, num_examples=10):\n",
    "    assert num_examples <= len(dataset), \"Can't pick more elements than there are in the dataset.\"\n",
    "    picks = []\n",
    "    for _ in range(num_examples):\n",
    "        pick = random.randint(0, len(dataset)-1)\n",
    "        while pick in picks:\n",
    "            pick = random.randint(0, len(dataset)-1)\n",
    "        picks.append(pick)\n",
    "    \n",
    "    df = pd.DataFrame(dataset[picks])\n",
    "    display(HTML(df.to_html()))\n",
    "    \n",
    "show_random_elements(results)"
   ],
   "id": "569b8b700155f4f7",
   "outputs": [
    {
     "data": {
      "text/plain": [
       "<IPython.core.display.HTML object>"
      ],
      "text/html": [
       "<table border=\"1\" class=\"dataframe\">\n",
       "  <thead>\n",
       "    <tr style=\"text-align: right;\">\n",
       "      <th></th>\n",
       "      <th>pred_str</th>\n",
       "      <th>text</th>\n",
       "    </tr>\n",
       "  </thead>\n",
       "  <tbody>\n",
       "    <tr>\n",
       "      <th>0</th>\n",
       "      <td>зачем крутить ся ветра вовраге подъемлет лист и пыль несет когда корамбля в ней движные влаге его дыхание же одно ждет</td>\n",
       "      <td>зачем крутится ветр в овраге подъемлет лист и пыль несет когда корабль в недвижной влаге его дыханья жадно ждет</td>\n",
       "    </tr>\n",
       "    <tr>\n",
       "      <th>1</th>\n",
       "      <td>зачем судьбой не суждено моей непостоянной лире геройство воспевать одно и с ним не знае мое в мире любовь и дружбу старых лет</td>\n",
       "      <td>зачем судьбой не суждено моей непостоянной лире геройство воспевать одно и с ним незнаемые в мире любовь и дружбу старых лет</td>\n",
       "    </tr>\n",
       "    <tr>\n",
       "      <th>2</th>\n",
       "      <td>там в блаках перед народом через леса через моря колдун несет богатыря</td>\n",
       "      <td>там в облаках перед народом через леса через моря колдун несет богатыря</td>\n",
       "    </tr>\n",
       "    <tr>\n",
       "      <th>3</th>\n",
       "      <td>ясниця вещи сон герою он видит будто бы княжна над страшной безно голубиною стоит недвижно и бледна</td>\n",
       "      <td>и снится вещий сон герою он видит будто бы княжна над страшной бездны глубиною стоит недвижна и бледна</td>\n",
       "    </tr>\n",
       "    <tr>\n",
       "      <th>4</th>\n",
       "      <td>красуйся град петров истой неколебимо как россия да умерится же с тобой и побежденная стихия</td>\n",
       "      <td>красуйся град петров и стой неколебимо как россия да умирится же с тобой и побежденная стихия</td>\n",
       "    </tr>\n",
       "    <tr>\n",
       "      <th>5</th>\n",
       "      <td>все тихо страх его объемлет по нем текут и жар и хлат</td>\n",
       "      <td>все тихо страх его объемлет по нем текут и жар и хлад</td>\n",
       "    </tr>\n",
       "    <tr>\n",
       "      <th>6</th>\n",
       "      <td>раскинув не в от поволнам рыбак навесло наклоненный плывет колесистым берегам к порогу хижины смиренной</td>\n",
       "      <td>раскинув невод по волнам рыбак на весла наклоненный плывет к лесистым берегам к порогу хижины смиренной</td>\n",
       "    </tr>\n",
       "    <tr>\n",
       "      <th>7</th>\n",
       "      <td>его чело его ланиты мгновенным пламенем горят</td>\n",
       "      <td>его чело его ланиты мгновенным пламенем горят</td>\n",
       "    </tr>\n",
       "    <tr>\n",
       "      <th>8</th>\n",
       "      <td>я каждый день востав отсна благодарю сеждечно бога зато что в наше времена волшебников не так уж много к тому же чести славы им женить бы наши безопасны</td>\n",
       "      <td>я каждый день восстав от сна благодарю сердечно бога за то что в наши времена волшебников не так уж много к тому же честь и слава им женитьбы наши безопасны</td>\n",
       "    </tr>\n",
       "    <tr>\n",
       "      <th>9</th>\n",
       "      <td>казак пловет начал маке глоча под нуричному сети</td>\n",
       "      <td>казак плывет на челноке влача по дну речному сети</td>\n",
       "    </tr>\n",
       "  </tbody>\n",
       "</table>"
      ]
     },
     "metadata": {},
     "output_type": "display_data"
    }
   ],
   "execution_count": 30
  }
 ],
 "metadata": {
  "kernelspec": {
   "display_name": "Python 3",
   "language": "python",
   "name": "python3"
  },
  "language_info": {
   "codemirror_mode": {
    "name": "ipython",
    "version": 2
   },
   "file_extension": ".py",
   "mimetype": "text/x-python",
   "name": "python",
   "nbconvert_exporter": "python",
   "pygments_lexer": "ipython2",
   "version": "2.7.6"
  }
 },
 "nbformat": 4,
 "nbformat_minor": 5
}
